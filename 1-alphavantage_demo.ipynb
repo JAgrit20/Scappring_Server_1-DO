{
 "cells": [
  {
   "cell_type": "markdown",
   "metadata": {},
   "source": [
    "# Alphavantage Intraday\n",
    "* API for \"real time\" stock data\n",
    "* Freeium model - sign up fro free account to get API key\n",
    "* Can make API calls directly or install the helper library:\n",
    "pip install alpha_vantage from the command line\n",
    "\n",
    "#### https://alphavantage.co"
   ]
  },
  {
   "cell_type": "markdown",
   "metadata": {},
   "source": [
    "### 1. Set up Environment"
   ]
  },
  {
   "cell_type": "code",
   "execution_count": null,
   "metadata": {},
   "outputs": [],
   "source": [
    "pip install alpha_vantage"
   ]
  },
  {
   "cell_type": "code",
   "execution_count": null,
   "metadata": {},
   "outputs": [],
   "source": [
    "import pandas as pd\n",
    "import matplotlib.pyplot as plt\n",
    "from alpha_vantage.timeseries import TimeSeries"
   ]
  },
  {
   "cell_type": "markdown",
   "metadata": {},
   "source": [
    "### 2. Store API Key"
   ]
  },
  {
   "cell_type": "code",
   "execution_count": null,
   "metadata": {},
   "outputs": [],
   "source": [
    "# replace with your own API key\n",
    "key = \"1Z8DLJEG0ISEJHI0\""
   ]
  },
  {
   "cell_type": "markdown",
   "metadata": {},
   "source": [
    "### 3. Create TimeSeries Object and Make API Call"
   ]
  },
  {
   "cell_type": "code",
   "execution_count": null,
   "metadata": {},
   "outputs": [],
   "source": [
    "ts = TimeSeries(key, output_format='pandas')\n",
    "data, meta = ts.get_intraday('TSLA', interval='1min', outputsize='full')"
   ]
  },
  {
   "cell_type": "markdown",
   "metadata": {},
   "source": [
    "### 4. Examine Data"
   ]
  },
  {
   "cell_type": "code",
   "execution_count": null,
   "metadata": {},
   "outputs": [],
   "source": [
    "meta"
   ]
  },
  {
   "cell_type": "code",
   "execution_count": null,
   "metadata": {},
   "outputs": [],
   "source": [
    "data.info()"
   ]
  },
  {
   "cell_type": "code",
   "execution_count": null,
   "metadata": {},
   "outputs": [],
   "source": [
    "data.head()"
   ]
  },
  {
   "cell_type": "code",
   "execution_count": null,
   "metadata": {},
   "outputs": [],
   "source": [
    "plt.plot(data['4. close'])"
   ]
  },
  {
   "cell_type": "code",
   "execution_count": null,
   "metadata": {},
   "outputs": [],
   "source": []
  },
  {
   "cell_type": "markdown",
   "metadata": {},
   "source": [
    "### 5. Rename Columns and Add Separate Date and Time Columns"
   ]
  },
  {
   "cell_type": "code",
   "execution_count": null,
   "metadata": {},
   "outputs": [],
   "source": [
    "columns = ['open', 'high', 'low', 'close', 'volume']\n",
    "data.columns = columns"
   ]
  },
  {
   "cell_type": "code",
   "execution_count": null,
   "metadata": {},
   "outputs": [],
   "source": [
    "data['TradeDate'] = data.index.date\n",
    "data['time'] = data.index.time"
   ]
  },
  {
   "cell_type": "code",
   "execution_count": null,
   "metadata": {},
   "outputs": [],
   "source": [
    "data.loc['2020-12-31']"
   ]
  },
  {
   "cell_type": "code",
   "execution_count": null,
   "metadata": {},
   "outputs": [],
   "source": [
    "market = data.between_time('09:30:00', '16:00:00').copy()\n",
    "market.sort_index(inplace=True)\n",
    "market.info()"
   ]
  },
  {
   "cell_type": "code",
   "execution_count": null,
   "metadata": {},
   "outputs": [],
   "source": [
    "market.groupby('TradeDate').agg({'low':min, 'high':max})"
   ]
  },
  {
   "cell_type": "code",
   "execution_count": null,
   "metadata": {},
   "outputs": [],
   "source": [
    "market.loc[market.groupby('TradeDate')['low'].idxmin()]"
   ]
  },
  {
   "cell_type": "code",
   "execution_count": null,
   "metadata": {},
   "outputs": [],
   "source": [
    "market.loc[market.groupby('TradeDate')['high'].idxmax()]"
   ]
  },
  {
   "cell_type": "code",
   "execution_count": null,
   "metadata": {},
   "outputs": [],
   "source": [
    "\n",
    "\n",
    "def fetch_NSE_stock_price(stock_code):\n",
    "    \n",
    "    stock_url  = 'https://www.nseindia.com/live_market/dynaContent/live_watch/get_quote/GetQuote.jsp?symbol='+str(stock_code)\n",
    "    #print(stock_url)\n",
    "    headers = {'user-agent':'Mozilla/5.0 (Windows NT 10.0; Win64; x64) AppleWebKit/537.36 (KHTML, like Gecko) Chrome/79.0.3945.117 Safari/537.36'}\n",
    "    response = requests.get(stock_url, headers=headers)\n",
    "    soup = BeautifulSoup(response.text, 'html.parser')\n",
    "    data_array = soup.find(id='responseDiv').getText().strip().split(\":\")\n",
    "    \n",
    "    for item in data_array:\n",
    "        if 'lastPrice' in item:\n",
    "            index = data_array.index(item)+1\n",
    "            latestPrice=data_array[index].split('\"')[1]\n",
    "            lp =  float(latestPrice.replace(',',''))\n",
    "        elif 'closePrice' in item:\n",
    "            index = data_array.index(item)+1\n",
    "            closePrice=data_array[index].split('\"')[1]\n",
    "            cp =  float(closePrice.replace(',',''))\n",
    "        elif 'open' in item:\n",
    "            index = data_array.index(item)+1\n",
    "            openPrice=data_array[index].split('\"')[1]\n",
    "            op =  float(openPrice.replace(',',''))\n",
    "        elif 'dayLow' in item:\n",
    "            index = data_array.index(item)+1\n",
    "            dayLow=data_array[index].split('\"')[1]\n",
    "            dl =  float(dayLow.replace(',',''))\n",
    "        elif 'dayHigh' in item:\n",
    "            index = data_array.index(item)+1\n",
    "            dayHigh=data_array[index].split('\"')[1]\n",
    "            dh =  float(dayHigh.replace(',',''))\n",
    "    return op,lp,dh, dl,cp       \n",
    "\n",
    "nifty50_url = 'https://www1.nseindia.com/content/indices/ind_nifty50list.csv'\n",
    "df_n50 = pd.read_csv(nifty50_url)\n",
    "\n",
    "regexp = re.compile('&')\n",
    "\n",
    "OP  = []\n",
    "LP  = []\n",
    "DHP = []\n",
    "DLP = []\n",
    "CP  = []\n",
    "\n",
    "\n",
    "while True:\n",
    "   try:\n",
    "      for index, row in df_n50.iterrows():\n",
    "         stock_code = row['Symbol']\n",
    "         if(regexp.search(stock_code) != None):\n",
    "            stock_code = stock_code.replace('&','%26')\n",
    "         \n",
    "         oPrice,lPrice,dhPrice, dlPrice,cPrice = fetch_NSE_stock_price(stock_code)\n",
    "         OP.append(str(oPrice))\n",
    "         LP.append(str(lPrice))\n",
    "         DHP.append(str(dhPrice))\n",
    "         DLP.append(str(dlPrice))\n",
    "         CP.append(str(cPrice))\n",
    "\n",
    "      os.system('cls')\n",
    "      print(\"--------------------------------------------------------------------------------------------------------------------------------------------\")\n",
    "      print(\"|{:50s} | {:20s} | {:10s} | {:10s} | {:10s} | {:10s} | {:10s}|\".format( 'Company Name','Symbol','openPrice','lastPrice','dayHigh','dayLow','closePrice'))\n",
    "      print(\"--------------------------------------------------------------------------------------------------------------------------------------------\")\n",
    "\n",
    "\n",
    "      for index, row in df_n50.iterrows():\n",
    "         stock_code = row['Symbol']\n",
    "         \n",
    "         print(\"|{:50s} | {:20s} | {:10s} |{:10s} | {:10s} | {:10s} | {:10s} |\".format(str(row['Company Name']), row['Symbol'], OP[index].rjust(10), LP[index].rjust(10), DHP[index].rjust(10), DLP[index].rjust(10), CP[index].rjust(10)))\n",
    "         \n",
    "      print(\"--------------------------------------------------------------------------------------------------------------------------------------------\")\n",
    "\n",
    "   except KeyboardInterrupt:\n",
    "        sys.exit()"
   ]
  },
  {
   "cell_type": "code",
   "execution_count": null,
   "metadata": {},
   "outputs": [],
   "source": [
    "import pandas as pd\n",
    "import sys\n",
    "import requests\n",
    "from bs4 import BeautifulSoup\n",
    "import re\n",
    "import os"
   ]
  },
  {
   "cell_type": "code",
   "execution_count": null,
   "metadata": {},
   "outputs": [],
   "source": [
    "\n",
    "def fetch_NSE_stock_price(stock_code):\n",
    "\n",
    "    try:\n",
    "        stock_url  = 'https://www.nseindia.com/live_market/dynaContent/live_watch/get_quote/GetQuote.jsp?symbol='+str(stock_code)\n",
    "        print(\"hi\",stock_url)\n",
    "        #     #print(stock_url)\n",
    "        headers = {'user-agent':'Mozilla/5.0 (Windows NT 10.0; Win64; x64) AppleWebKit/537.36 (KHTML, like Gecko) Chrome/79.0.3945.117 Safari/537.36'}\n",
    "        response = requests.get(stock_url, headers=headers)\n",
    "    except requests.exceptions.RequestException as e:  # This is the correct syntax\n",
    "        raise SystemExit(e)\n",
    "\n",
    "#     soup = BeautifulSoup(response.text, 'html.parser')\n",
    "#     data_array = soup.find(id='responseDiv').getText().strip().split(\":\")\n",
    "#     print(data_array)\n",
    "    \n",
    "#     for item in data_array:\n",
    "#         if 'lastPrice' in item:\n",
    "#             index = data_array.index(item)+1\n",
    "#             latestPrice=data_array[index].split('\"')[1]\n",
    "#             lp =  float(latestPrice.replace(',',''))\n",
    "#         elif 'closePrice' in item:\n",
    "#             index = data_array.index(item)+1\n",
    "#             closePrice=data_array[index].split('\"')[1]\n",
    "#             cp =  float(closePrice.replace(',',''))\n",
    "#         elif 'open' in item:\n",
    "#             index = data_array.index(item)+1\n",
    "#             openPrice=data_array[index].split('\"')[1]\n",
    "#             op =  float(openPrice.replace(',',''))\n",
    "#         elif 'dayLow' in item:\n",
    "#             index = data_array.index(item)+1\n",
    "#             dayLow=data_array[index].split('\"')[1]\n",
    "#             dl =  float(dayLow.replace(',',''))\n",
    "#         elif 'dayHigh' in item:\n",
    "#             index = data_array.index(item)+1\n",
    "#             dayHigh=data_array[index].split('\"')[1]\n",
    "#             dh =  float(dayHigh.replace(',',''))\n",
    "#     return op,lp,dh, dl,cp       \n",
    "\n",
    "# nifty50_url = 'https://www1.nseindia.com/content/indices/ind_nifty50list.csv'\n",
    "# df_n50 = pd.read_csv(nifty50_url)\n",
    "\n",
    "# regexp = re.compile('&')"
   ]
  },
  {
   "cell_type": "code",
   "execution_count": null,
   "metadata": {},
   "outputs": [],
   "source": [
    "fetch_NSE_stock_price('SBIN')"
   ]
  },
  {
   "cell_type": "code",
   "execution_count": null,
   "metadata": {},
   "outputs": [],
   "source": [
    "stock_url  = 'https://www.nseindia.com/live_market/dynaContent/live_watch/get_quote/GetQuote.jsp?symbol=SBIM'\n",
    "# response = requests.get(stock_url)\n",
    "\n",
    "\n",
    "r = requests.get(stock_url, headers={\n",
    "    \"User-Agent\": \"Mozilla/5.0 (Macintosh; Intel Mac OS X 10_11_2) AppleWebKit/537.36 (KHTML, like Gecko) Chrome/47.0.2526.106 Safari/537.36\"\n",
    "})"
   ]
  },
  {
   "cell_type": "code",
   "execution_count": null,
   "metadata": {},
   "outputs": [],
   "source": [
    "import pandas as pd\n",
    "import sys\n",
    "import requests\n",
    "from bs4 import BeautifulSoup\n",
    "import re\n",
    "import os\n",
    "\n",
    "def fetch_NSE_stock_price(stock_code):\n",
    "    \n",
    "    stock_url  = 'https://www.nseindia.com/live_market/dynaContent/live_watch/get_quote/GetQuote.jsp?symbol='+str(stock_code)\n",
    "    #print(stock_url)\n",
    "    headers = {'user-agent':'Mozilla/5.0 (Windows NT 10.0; Win64; x64) AppleWebKit/537.36 (KHTML, like Gecko) Chrome/79.0.3945.117 Safari/537.36'}\n",
    "    response = requests.get(stock_url, headers=headers)\n",
    "    soup = BeautifulSoup(response.text, 'html.parser')\n",
    "    data_array = soup.find(id='responseDiv').getText().strip().split(\":\")\n",
    "    \n",
    "    for item in data_array:\n",
    "        if 'lastPrice' in item:\n",
    "            index = data_array.index(item)+1\n",
    "            latestPrice=data_array[index].split('\"')[1]\n",
    "            lp =  float(latestPrice.replace(',',''))\n",
    "        elif 'closePrice' in item:\n",
    "            index = data_array.index(item)+1\n",
    "            closePrice=data_array[index].split('\"')[1]\n",
    "            cp =  float(closePrice.replace(',',''))\n",
    "        elif 'open' in item:\n",
    "            index = data_array.index(item)+1\n",
    "            openPrice=data_array[index].split('\"')[1]\n",
    "            op =  float(openPrice.replace(',',''))\n",
    "        elif 'dayLow' in item:\n",
    "            index = data_array.index(item)+1\n",
    "            dayLow=data_array[index].split('\"')[1]\n",
    "            dl =  float(dayLow.replace(',',''))\n",
    "        elif 'dayHigh' in item:\n",
    "            index = data_array.index(item)+1\n",
    "            dayHigh=data_array[index].split('\"')[1]\n",
    "            dh =  float(dayHigh.replace(',',''))\n",
    "    return op,lp,dh, dl,cp       \n",
    "\n",
    "nifty50_url = 'https://www1.nseindia.com/content/indices/ind_nifty50list.csv'\n",
    "df_n50 = pd.read_csv(nifty50_url)\n",
    "\n",
    "regexp = re.compile('&')\n",
    "\n",
    "OP  = []\n",
    "LP  = []\n",
    "DHP = []\n",
    "DLP = []\n",
    "CP  = []\n",
    "\n",
    "\n",
    "while True:\n",
    "   try:\n",
    "      for index, row in df_n50.iterrows():\n",
    "         stock_code = row['Symbol']\n",
    "         if(regexp.search(stock_code) != None):\n",
    "            stock_code = stock_code.replace('&','%26')\n",
    "         \n",
    "         oPrice,lPrice,dhPrice, dlPrice,cPrice = fetch_NSE_stock_price(stock_code)\n",
    "         OP.append(str(oPrice))\n",
    "         LP.append(str(lPrice))\n",
    "         DHP.append(str(dhPrice))\n",
    "         DLP.append(str(dlPrice))\n",
    "         CP.append(str(cPrice))\n",
    "\n",
    "      os.system('cls')\n",
    "      print(\"--------------------------------------------------------------------------------------------------------------------------------------------\")\n",
    "      print(\"|{:50s} | {:20s} | {:10s} | {:10s} | {:10s} | {:10s} | {:10s}|\".format( 'Company Name','Symbol','openPrice','lastPrice','dayHigh','dayLow','closePrice'))\n",
    "      print(\"--------------------------------------------------------------------------------------------------------------------------------------------\")\n",
    "\n",
    "\n",
    "      for index, row in df_n50.iterrows():\n",
    "         stock_code = row['Symbol']\n",
    "         \n",
    "         print(\"|{:50s} | {:20s} | {:10s} |{:10s} | {:10s} | {:10s} | {:10s} |\".format(str(row['Company Name']), row['Symbol'], OP[index].rjust(10), LP[index].rjust(10), DHP[index].rjust(10), DLP[index].rjust(10), CP[index].rjust(10)))\n",
    "         \n",
    "      print(\"--------------------------------------------------------------------------------------------------------------------------------------------\")\n",
    "\n",
    "   except KeyboardInterrupt:\n",
    "        sys.exit()"
   ]
  },
  {
   "cell_type": "code",
   "execution_count": null,
   "metadata": {},
   "outputs": [],
   "source": [
    "# Raw Package\n",
    "import numpy as np\n",
    "import pandas as pd\n",
    "\n",
    "#Data Source\n",
    "import yfinance as yf\n",
    "\n",
    "#Data viz\n",
    "import plotly.graph_objs as go\n",
    "\n",
    "#Interval required 1 minute\n",
    "data = yf.download(tickers='UBER', period='1d', interval='1m')\n",
    "\n",
    "#declare figure\n",
    "fig = go.Figure()\n",
    "\n",
    "#Candlestick\n",
    "fig.add_trace(go.Candlestick(x=data.index,\n",
    "                open=data['Open'],\n",
    "                high=data['High'],\n",
    "                low=data['Low'],\n",
    "                close=data['Close'], name = 'market data'))\n",
    "\n",
    "# Add titles\n",
    "fig.update_layout(\n",
    "    title='Uber live share price evolution',\n",
    "    yaxis_title='Stock Price (USD per Shares)')\n",
    "\n",
    "# X-Axes\n",
    "fig.update_xaxes(\n",
    "    rangeslider_visible=True,\n",
    "    rangeselector=dict(\n",
    "        buttons=list([\n",
    "            dict(count=15, label=\"15m\", step=\"minute\", stepmode=\"backward\"),\n",
    "            dict(count=45, label=\"45m\", step=\"minute\", stepmode=\"backward\"),\n",
    "            dict(count=1, label=\"HTD\", step=\"hour\", stepmode=\"todate\"),\n",
    "            dict(count=3, label=\"3h\", step=\"hour\", stepmode=\"backward\"),\n",
    "            dict(step=\"all\")\n",
    "        ])\n",
    "    )\n",
    ")\n",
    "\n",
    "#Show\n",
    "fig.show()"
   ]
  },
  {
   "cell_type": "code",
   "execution_count": null,
   "metadata": {},
   "outputs": [],
   "source": [
    "pip install nsepy"
   ]
  },
  {
   "cell_type": "code",
   "execution_count": null,
   "metadata": {},
   "outputs": [],
   "source": [
    "from nsepy import get_history\n",
    "from datetime import date\n",
    "data = get_history(symbol=\"SBIN\", start=date(2015,1,1), end=date(2015,1,31))\n",
    "data[['Close']].plot()"
   ]
  },
  {
   "cell_type": "code",
   "execution_count": null,
   "metadata": {},
   "outputs": [],
   "source": [
    "import pandas as pd\n",
    "import pickle\n",
    "URL = 'https://www1.nseindia.com/content/indices/ind_nifty50list.csv'\n",
    "df = pd.read_csv(URL, index_col = 'Company Name')\n",
    "df"
   ]
  }
 ],
 "metadata": {
  "kernelspec": {
   "display_name": "Python 3 (ipykernel)",
   "language": "python",
   "name": "python3"
  },
  "language_info": {
   "codemirror_mode": {
    "name": "ipython",
    "version": 3
   },
   "file_extension": ".py",
   "mimetype": "text/x-python",
   "name": "python",
   "nbconvert_exporter": "python",
   "pygments_lexer": "ipython3",
   "version": "3.10.7"
  }
 },
 "nbformat": 4,
 "nbformat_minor": 4
}
