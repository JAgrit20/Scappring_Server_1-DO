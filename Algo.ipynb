{
 "cells": [
  {
   "cell_type": "code",
   "execution_count": null,
   "id": "ea794a66",
   "metadata": {},
   "outputs": [],
   "source": [
    "import requests\n",
    "from bs4 import BeautifulSoup\n",
    "import pandas as pd"
   ]
  },
  {
   "cell_type": "code",
   "execution_count": null,
   "id": "b6eac598",
   "metadata": {},
   "outputs": [],
   "source": [
    "Charting_Link = \"https://chartink.com/screener/\"\n",
    "Charting_url= \"https://chartink.com/screener/process\""
   ]
  },
  {
   "cell_type": "code",
   "execution_count": null,
   "id": "7f2e9caa",
   "metadata": {},
   "outputs": [],
   "source": [
    "condition= '( {cash} ( monthly rsi( 14 ) > 60 and weekly rsi( 14 ) > 60 and latest rsi( 14 ) > 60 and 1 day ago  rsi( 14 ) <= 60 and latest volume > 100000 ) ) '\n"
   ]
  },
  {
   "cell_type": "code",
   "execution_count": null,
   "id": "a7ed3701",
   "metadata": {},
   "outputs": [],
   "source": [
    "def Send_high():    \n",
    "    import requests\n",
    "    import json\n",
    "\n",
    "    url = \"https://api.telegram.org/bot5820846301%3AAAHYbFAlHnqDfzbHFPZHdO1O1u6Y21UJzVg/sendMessage\"\n",
    "\n",
    "    payload = {\n",
    "        \"text\": \"Count is more than 40\",\n",
    "        \"disable_web_page_preview\": False,\n",
    "        \"disable_notification\": False,\n",
    "        \"reply_to_message_id\": None,\n",
    "        \"chat_id\": \"-1001691472772\"\n",
    "    }\n",
    "    headers = {\n",
    "        \"accept\": \"application/json\",\n",
    "        \"content-type\": \"application/json\"\n",
    "    }\n",
    "\n",
    "    response = requests.post(url, json=payload, headers=headers)\n",
    "\n",
    "    print(response.text)\n"
   ]
  },
  {
   "cell_type": "code",
   "execution_count": null,
   "id": "fbe031bd",
   "metadata": {},
   "outputs": [],
   "source": [
    "def Send_low():    \n",
    "    import requests\n",
    "    import json\n",
    "\n",
    "    url = \"https://api.telegram.org/bot5921643018:AAHmiFfQudRMNZNl3sG19zafMZD0OdfWGgA/sendMessage\"\n",
    "\n",
    "    payload = {\n",
    "        \"text\": \"Count is less than 10\",\n",
    "        \"disable_web_page_preview\": False,\n",
    "        \"disable_notification\": False,\n",
    "        \"reply_to_message_id\": None,\n",
    "        \"chat_id\": \"-1001691472772\"\n",
    "    }\n",
    "    headers = {\n",
    "        \"accept\": \"application/json\",\n",
    "        \"content-type\": \"application/json\"\n",
    "    }\n",
    "\n",
    "    response = requests.post(url, json=payload, headers=headers)\n",
    "\n",
    "    print(response.text)\n"
   ]
  },
  {
   "cell_type": "code",
   "execution_count": null,
   "id": "13181876",
   "metadata": {},
   "outputs": [],
   "source": [
    "from datetime import datetime\n",
    "import pytz\n",
    "\n",
    "UTC = pytz.utc\n",
    "\n",
    "IST = pytz.timezone('Asia/Kolkata')\n",
    "\n",
    "datetime_ist = datetime.now(IST)\n",
    "print(datetime_ist.strftime('%Y:%m:%d %H:%M:%S %Z %z'))\n"
   ]
  },
  {
   "cell_type": "code",
   "execution_count": null,
   "id": "a8c056b2",
   "metadata": {},
   "outputs": [],
   "source": [
    "import requests\n",
    "from bs4 import BeautifulSoup as bs\n",
    "import pandas as pd\n",
    "import time\n",
    "\n",
    "# data = {\n",
    "#   'scan_clause': '( {cash} ( monthly rsi( 14 ) > 60 and weekly rsi( 14 ) > 60 and latest rsi( 14 ) > 60 and 1 day ago  rsi( 14 ) <= 60 and latest volume > 100000 ) ) '\n",
    "# }\n",
    "interval= 5\n",
    "\n",
    "def periodic_work(interval):\n",
    "    counter = 0\n",
    "    while True:\n",
    "        try:\n",
    "            data = {\n",
    "                  'scan_clause': '( {33492} ( [0] 15 minute close > latest vwap ) )'\n",
    "                }\n",
    "\n",
    "            with requests.Session() as s:\n",
    "                r = s.get('https://chartink.com/screener/n-b-27')\n",
    "                soup = bs(r.content, 'lxml')\n",
    "                s.headers['X-CSRF-TOKEN'] = soup.select_one('[name=csrf-token]')['content']\n",
    "                r = s.post('https://chartink.com/screener/process', data=data).json()\n",
    "                #print(r.json())\n",
    "                df = pd.DataFrame(r['data'])\n",
    "#                 print(df)\n",
    "\n",
    "                column = df[\"sr\"]\n",
    "\n",
    "                print(\"len\",len(column))\n",
    "                counter = counter + 1\n",
    "                print(counter)\n",
    "\n",
    "                if(len(column)>=40):\n",
    "\n",
    "                    Send_high()\n",
    "                    interval= 300\n",
    "                    print(df)\n",
    "                if(len(column)<=10):\n",
    "\n",
    "                    Send_low()\n",
    "                    interval= 300\n",
    "                    print(df)\n",
    "                else:\n",
    "                    interval=5 \n",
    "\n",
    "                #interval should be an integer, the number of seconds to wait\n",
    "\n",
    "\n",
    "            time.sleep(interval)\n",
    "        except Exception as e:\n",
    "            print(\"ERROR : \"+str(e))\n",
    "        \n",
    "\n",
    "periodic_work(5)  \n",
    "\n",
    "        "
   ]
  },
  {
   "cell_type": "code",
   "execution_count": null,
   "id": "31b58ce2",
   "metadata": {},
   "outputs": [],
   "source": [
    "import json\n",
    "import requests\n",
    "import pandas as pd\n",
    "\n",
    "def getCurrentPCR(symbol):\n",
    "    url = 'https://www.nseindia.com/api/option-chain-indices?symbol='+symbol\n",
    "    headers = {\n",
    "    'user-agent' : 'Mozilla/5.0 (Windows NT 10.0; Win64; x64) AppleWebKit/537.36 (KHTML, like Gecko) Chrome/105.0.0.0 Safari/537.36',\n",
    "    'accept-encoding' : 'gzip, deflate, br',\n",
    "    'accept-language' : 'en-US,en;q=0.9'\n",
    "    }\n",
    "    response = requests.get(url, headers=headers).content\n",
    "    data = json.loads(response.decode('utf-8'))\n",
    "    totCE = data['filtered']['CE']['totOI']\n",
    "    totPE = data['filtered']['PE']['totOI']\n",
    "    \n",
    "    return (totPE/totCE)\n",
    "\n",
    "\n",
    "pcr = getCurrentPCR('NIFTY')\n",
    "\n",
    "print('PCR = ', pcr)   "
   ]
  },
  {
   "cell_type": "code",
   "execution_count": null,
   "id": "4e914a5c",
   "metadata": {},
   "outputs": [],
   "source": [
    "pip install webdriver_manager"
   ]
  },
  {
   "cell_type": "code",
   "execution_count": null,
   "id": "544c219c",
   "metadata": {},
   "outputs": [],
   "source": [
    "pip install nsetools --upgrade"
   ]
  },
  {
   "cell_type": "code",
   "execution_count": null,
   "id": "f2000661",
   "metadata": {},
   "outputs": [],
   "source": [
    "from nsetools import Nse"
   ]
  },
  {
   "cell_type": "code",
   "execution_count": null,
   "id": "7a485470",
   "metadata": {},
   "outputs": [],
   "source": [
    "nse = Nse()\n",
    "\n",
    "print(nse)"
   ]
  },
  {
   "cell_type": "code",
   "execution_count": null,
   "id": "21050fdb",
   "metadata": {},
   "outputs": [],
   "source": [
    "q = nse.get_quote('infy') "
   ]
  },
  {
   "cell_type": "code",
   "execution_count": 1,
   "id": "99b712d6",
   "metadata": {},
   "outputs": [],
   "source": [
    "import requests\n",
    "from bs4 import BeautifulSoup"
   ]
  },
  {
   "cell_type": "code",
   "execution_count": 2,
   "id": "c06f4d88",
   "metadata": {},
   "outputs": [
    {
     "name": "stdout",
     "output_type": "stream",
     "text": [
      "TATAELXSI\n"
     ]
    }
   ],
   "source": [
    "stockcode = \"TATAELXSI\"\n",
    "print(stockcode)"
   ]
  },
  {
   "cell_type": "code",
   "execution_count": null,
   "id": "9770d230",
   "metadata": {},
   "outputs": [
    {
     "name": "stdout",
     "output_type": "stream",
     "text": [
      "https://www.nseindia.com/live_market/dynaContent/live_watch/get_quote/GetQuote.jsp?symbol=TATAELXSI\n"
     ]
    }
   ],
   "source": [
    "stock_url  = 'https://www.nseindia.com/live_market/dynaContent/live_watch/get_quote/GetQuote.jsp?symbol='+str(stockcode)\n",
    "print(stock_url)\n",
    "headers = {'user-agent':'Mozilla/5.0 (Windows NT 10.0; Win64; x64) AppleWebKit/537.36 (KHTML, like Gecko) Chrome/79.0.3945.117 Safari/537.36'}\n",
    "response = requests.get(stock_url, headers=headers)\n",
    "response"
   ]
  },
  {
   "cell_type": "code",
   "execution_count": null,
   "id": "2aa08ed5",
   "metadata": {},
   "outputs": [],
   "source": [
    "soup = BeautifulSoup(response.text, 'html.parser')"
   ]
  },
  {
   "cell_type": "code",
   "execution_count": null,
   "id": "16b5a460",
   "metadata": {},
   "outputs": [],
   "source": [
    "soup = BeautifulSoup(response.text, 'html.parser')"
   ]
  }
 ],
 "metadata": {
  "kernelspec": {
   "display_name": "Python 3 (ipykernel)",
   "language": "python",
   "name": "python3"
  },
  "language_info": {
   "codemirror_mode": {
    "name": "ipython",
    "version": 3
   },
   "file_extension": ".py",
   "mimetype": "text/x-python",
   "name": "python",
   "nbconvert_exporter": "python",
   "pygments_lexer": "ipython3",
   "version": "3.10.7"
  }
 },
 "nbformat": 4,
 "nbformat_minor": 5
}
