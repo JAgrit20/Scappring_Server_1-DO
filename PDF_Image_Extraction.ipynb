{
 "cells": [
  {
   "cell_type": "code",
   "execution_count": 1,
   "id": "f28cef57",
   "metadata": {},
   "outputs": [],
   "source": [
    "from pikepdf import Pdf, PdfImage\n",
    "\n",
    "filename = \"test_paper.pdf\"\n",
    "example = Pdf.open(filename)\n",
    "\n",
    "for i, page in enumerate(example.pages):\n",
    "    for j, (name, raw_image) in enumerate(page.images.items()):\n",
    "        image = PdfImage(raw_image)\n",
    "        out = image.extract_to(fileprefix=f\"{filename}-page{i:03}-img{j:03}\")"
   ]
  }
 ],
 "metadata": {
  "kernelspec": {
   "display_name": "Python 3 (ipykernel)",
   "language": "python",
   "name": "python3"
  },
  "language_info": {
   "codemirror_mode": {
    "name": "ipython",
    "version": 3
   },
   "file_extension": ".py",
   "mimetype": "text/x-python",
   "name": "python",
   "nbconvert_exporter": "python",
   "pygments_lexer": "ipython3",
   "version": "3.10.7"
  }
 },
 "nbformat": 4,
 "nbformat_minor": 5
}
